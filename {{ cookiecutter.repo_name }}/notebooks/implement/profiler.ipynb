{
 "cells": [
  {
   "cell_type": "code",
   "execution_count": 2,
   "metadata": {},
   "outputs": [],
   "source": [
    "a = 2"
   ]
  },
  {
   "cell_type": "code",
   "execution_count": 3,
   "metadata": {},
   "outputs": [
    {
     "name": "stdout",
     "output_type": "stream",
     "text": [
      "---------------------------------  ------------  ------------  ------------  ------------  ------------  ------------  \n",
      "                             Name    Self CPU %      Self CPU   CPU total %     CPU total  CPU time avg    # of Calls  \n",
      "---------------------------------  ------------  ------------  ------------  ------------  ------------  ------------  \n",
      "                     aten::conv2d         0.21%      67.391us        73.77%      23.575ms       1.179ms            20  \n",
      "                aten::convolution         0.58%     185.444us        73.56%      23.508ms       1.175ms            20  \n",
      "               aten::_convolution         0.39%     123.352us        72.98%      23.322ms       1.166ms            20  \n",
      "         aten::mkldnn_convolution        72.09%      23.039ms        72.60%      23.199ms       1.160ms            20  \n",
      "                 aten::batch_norm         0.14%      43.160us        12.71%       4.061ms     203.042us            20  \n",
      "     aten::_batch_norm_impl_index         0.23%      73.050us        12.57%       4.018ms     200.884us            20  \n",
      "          aten::native_batch_norm        11.93%       3.811ms        12.32%       3.937ms     196.868us            20  \n",
      "                 aten::max_pool2d         0.06%      18.024us         6.19%       1.978ms       1.978ms             1  \n",
      "    aten::max_pool2d_with_indices         6.13%       1.960ms         6.13%       1.960ms       1.960ms             1  \n",
      "                      aten::relu_         0.43%     136.080us         3.17%       1.012ms      59.555us            17  \n",
      "---------------------------------  ------------  ------------  ------------  ------------  ------------  ------------  \n",
      "Self CPU time total: 31.957ms\n",
      "\n"
     ]
    }
   ],
   "source": [
    "import torch\n",
    "import torchvision.models as models\n",
    "from torch.profiler import profile, ProfilerActivity\n",
    "\n",
    "model = models.resnet18()\n",
    "inputs = torch.randn(5, 3, 224, 224)\n",
    "\n",
    "\n",
    "with profile(activities=[ProfilerActivity.CPU], record_shapes=True) as prof:\n",
    "    model(inputs)\n",
    "\n",
    "\n",
    "print(prof.key_averages().table(sort_by=\"cpu_time_total\", row_limit=10))"
   ]
  },
  {
   "cell_type": "code",
   "execution_count": 5,
   "metadata": {},
   "outputs": [],
   "source": [
    "from torch.profiler import profile, tensorboard_trace_handler\n"
   ]
  },
  {
   "cell_type": "code",
   "execution_count": 7,
   "metadata": {},
   "outputs": [],
   "source": [
    "with profile(activities=[ProfilerActivity.CPU], record_shapes=True, on_trace_ready=tensorboard_trace_handler(\"./log/resnet18\")) as prof:\n",
    "    model(inputs)"
   ]
  },
  {
   "cell_type": "code",
   "execution_count": null,
   "metadata": {},
   "outputs": [],
   "source": []
  },
  {
   "cell_type": "code",
   "execution_count": 6,
   "metadata": {},
   "outputs": [
    {
     "name": "stdout",
     "output_type": "stream",
     "text": [
      "---------------------------------  ------------  ------------  ------------  ------------  ------------  ------------  --------------------------------------------------------------------------------  \n",
      "                             Name    Self CPU %      Self CPU   CPU total %     CPU total  CPU time avg    # of Calls                                                                      Input Shapes  \n",
      "---------------------------------  ------------  ------------  ------------  ------------  ------------  ------------  --------------------------------------------------------------------------------  \n",
      "                     aten::conv2d         0.07%      15.579us        18.98%       4.372ms       1.093ms             4                             [[5, 64, 56, 56], [64, 64, 3, 3], [], [], [], [], []]  \n",
      "                aten::convolution         0.13%      29.365us        18.91%       4.356ms       1.089ms             4                     [[5, 64, 56, 56], [64, 64, 3, 3], [], [], [], [], [], [], []]  \n",
      "               aten::_convolution         0.10%      22.170us        18.78%       4.327ms       1.082ms             4     [[5, 64, 56, 56], [64, 64, 3, 3], [], [], [], [], [], [], [], [], [], [], []]  \n",
      "         aten::mkldnn_convolution        18.56%       4.276ms        18.69%       4.305ms       1.076ms             4                             [[5, 64, 56, 56], [64, 64, 3, 3], [], [], [], [], []]  \n",
      "                     aten::conv2d         0.02%       3.698us        12.47%       2.872ms     957.275us             3                            [[5, 512, 7, 7], [512, 512, 3, 3], [], [], [], [], []]  \n",
      "                aten::convolution         0.04%       9.377us        12.45%       2.868ms     956.042us             3                    [[5, 512, 7, 7], [512, 512, 3, 3], [], [], [], [], [], [], []]  \n",
      "               aten::_convolution         0.02%       5.680us        12.41%       2.859ms     952.916us             3    [[5, 512, 7, 7], [512, 512, 3, 3], [], [], [], [], [], [], [], [], [], [], []]  \n",
      "         aten::mkldnn_convolution        12.36%       2.848ms        12.38%       2.853ms     951.023us             3                            [[5, 512, 7, 7], [512, 512, 3, 3], [], [], [], [], []]  \n",
      "                     aten::conv2d         0.03%       5.840us         9.77%       2.252ms     750.615us             3                          [[5, 128, 28, 28], [128, 128, 3, 3], [], [], [], [], []]  \n",
      "                aten::convolution         0.06%      14.396us         9.75%       2.246ms     748.668us             3                  [[5, 128, 28, 28], [128, 128, 3, 3], [], [], [], [], [], [], []]  \n",
      "               aten::_convolution         0.04%       8.866us         9.69%       2.232ms     743.869us             3  [[5, 128, 28, 28], [128, 128, 3, 3], [], [], [], [], [], [], [], [], [], [], []]  \n",
      "         aten::mkldnn_convolution         9.59%       2.209ms         9.65%       2.223ms     740.914us             3                          [[5, 128, 28, 28], [128, 128, 3, 3], [], [], [], [], []]  \n",
      "                     aten::conv2d         0.04%       8.746us         9.22%       2.124ms       2.124ms             1                             [[5, 3, 224, 224], [64, 3, 7, 7], [], [], [], [], []]  \n",
      "                aten::convolution         0.13%      28.954us         9.18%       2.115ms       2.115ms             1                     [[5, 3, 224, 224], [64, 3, 7, 7], [], [], [], [], [], [], []]  \n",
      "               aten::_convolution         0.06%      12.905us         9.06%       2.086ms       2.086ms             1     [[5, 3, 224, 224], [64, 3, 7, 7], [], [], [], [], [], [], [], [], [], [], []]  \n",
      "         aten::mkldnn_convolution         8.87%       2.045ms         9.00%       2.073ms       2.073ms             1                             [[5, 3, 224, 224], [64, 3, 7, 7], [], [], [], [], []]  \n",
      "                     aten::conv2d         0.02%       3.877us         8.95%       2.062ms     687.390us             3                          [[5, 256, 14, 14], [256, 256, 3, 3], [], [], [], [], []]  \n",
      "                aten::convolution         0.04%       8.104us         8.93%       2.058ms     686.098us             3                  [[5, 256, 14, 14], [256, 256, 3, 3], [], [], [], [], [], [], []]  \n",
      "               aten::_convolution         0.02%       4.960us         8.90%       2.050ms     683.397us             3  [[5, 256, 14, 14], [256, 256, 3, 3], [], [], [], [], [], [], [], [], [], [], []]  \n",
      "         aten::mkldnn_convolution         8.85%       2.040ms         8.88%       2.045ms     681.743us             3                          [[5, 256, 14, 14], [256, 256, 3, 3], [], [], [], [], []]  \n",
      "                 aten::max_pool2d         0.02%       3.697us         7.28%       1.678ms       1.678ms             1                                           [[5, 64, 112, 112], [], [], [], [], []]  \n",
      "    aten::max_pool2d_with_indices         7.27%       1.674ms         7.27%       1.674ms       1.674ms             1                                           [[5, 64, 112, 112], [], [], [], [], []]  \n",
      "                 aten::batch_norm         0.01%       3.236us         5.45%       1.256ms       1.256ms             1                       [[5, 64, 112, 112], [64], [64], [64], [64], [], [], [], []]  \n",
      "     aten::_batch_norm_impl_index         0.03%       6.432us         5.44%       1.253ms       1.253ms             1                       [[5, 64, 112, 112], [64], [64], [64], [64], [], [], [], []]  \n",
      "          aten::native_batch_norm         5.34%       1.230ms         5.41%       1.246ms       1.246ms             1                           [[5, 64, 112, 112], [64], [64], [64], [64], [], [], []]  \n",
      "                     aten::conv2d         0.01%       1.553us         5.12%       1.180ms       1.180ms             1                            [[5, 64, 56, 56], [128, 64, 3, 3], [], [], [], [], []]  \n",
      "                aten::convolution         0.03%       6.543us         5.12%       1.178ms       1.178ms             1                    [[5, 64, 56, 56], [128, 64, 3, 3], [], [], [], [], [], [], []]  \n",
      "               aten::_convolution         0.01%       3.356us         5.09%       1.172ms       1.172ms             1    [[5, 64, 56, 56], [128, 64, 3, 3], [], [], [], [], [], [], [], [], [], [], []]  \n",
      "         aten::mkldnn_convolution         5.05%       1.163ms         5.07%       1.169ms       1.169ms             1                            [[5, 64, 56, 56], [128, 64, 3, 3], [], [], [], [], []]  \n",
      "                 aten::batch_norm         0.03%       6.713us         3.80%     876.427us     219.107us             4                         [[5, 64, 56, 56], [64], [64], [64], [64], [], [], [], []]  \n",
      "---------------------------------  ------------  ------------  ------------  ------------  ------------  ------------  --------------------------------------------------------------------------------  \n",
      "Self CPU time total: 23.038ms\n",
      "\n"
     ]
    }
   ],
   "source": [
    "print(prof.key_averages(group_by_input_shape=True).table(sort_by=\"cpu_time_total\", row_limit=30))"
   ]
  },
  {
   "cell_type": "code",
   "execution_count": 1,
   "metadata": {},
   "outputs": [
    {
     "ename": "NameError",
     "evalue": "name 'profile' is not defined",
     "output_type": "error",
     "traceback": [
      "\u001b[0;31m---------------------------------------------------------------------------\u001b[0m",
      "\u001b[0;31mNameError\u001b[0m                                 Traceback (most recent call last)",
      "Cell \u001b[0;32mIn[1], line 1\u001b[0m\n\u001b[0;32m----> 1\u001b[0m prof \u001b[38;5;241m=\u001b[39m \u001b[43mprofile\u001b[49m(activities\u001b[38;5;241m=\u001b[39m[ProfilerActivity\u001b[38;5;241m.\u001b[39mCPU], record_shapes\u001b[38;5;241m=\u001b[39m\u001b[38;5;28;01mTrue\u001b[39;00m)\n\u001b[1;32m      2\u001b[0m prof\u001b[38;5;241m.\u001b[39mstart()\n\u001b[1;32m      4\u001b[0m model(inputs)\n",
      "\u001b[0;31mNameError\u001b[0m: name 'profile' is not defined"
     ]
    }
   ],
   "source": [
    "prof = profile(activities=[ProfilerActivity.CPU], record_shapes=True)\n",
    "prof.start()\n",
    "\n",
    "model(inputs)\n",
    "\n",
    "prof.stop()\n",
    "\n",
    "print(prof.key_averages(group_by_input_shape=True).table(sort_by=\"cpu_time_total\", row_limit=30))"
   ]
  },
  {
   "cell_type": "code",
   "execution_count": 10,
   "metadata": {},
   "outputs": [
    {
     "name": "stdout",
     "output_type": "stream",
     "text": [
      "---------------------------------  ------------  ------------  ------------  ------------  ------------  ------------  \n",
      "                             Name    Self CPU %      Self CPU   CPU total %     CPU total  CPU time avg    # of Calls  \n",
      "---------------------------------  ------------  ------------  ------------  ------------  ------------  ------------  \n",
      "                     aten::conv2d         0.05%      37.172us        20.18%      15.684ms     784.215us            20  \n",
      "                aten::convolution         0.14%     107.570us        20.13%      15.647ms     782.356us            20  \n",
      "               aten::_convolution         0.09%      67.697us        19.99%      15.540ms     776.978us            20  \n",
      "         aten::mkldnn_convolution        19.75%      15.352ms        19.90%      15.472ms     773.593us            20  \n",
      "                      aten::empty         0.18%     139.308us         0.18%     139.308us       0.697us           200  \n",
      "                aten::as_strided_         0.04%      33.019us         0.04%      33.019us       1.651us            20  \n",
      "                    aten::resize_         0.01%       6.664us         0.01%       6.664us       0.333us            20  \n",
      "                       aten::add_         0.42%     326.531us         0.42%     326.531us      11.662us            28  \n",
      "                 aten::batch_norm         0.03%      26.500us         3.31%       2.570ms     128.503us            20  \n",
      "     aten::_batch_norm_impl_index         0.05%      40.137us         3.27%       2.544ms     127.178us            20  \n",
      "---------------------------------  ------------  ------------  ------------  ------------  ------------  ------------  \n",
      "Self CPU time total: 77.738ms\n",
      "\n"
     ]
    }
   ],
   "source": []
  },
  {
   "cell_type": "code",
   "execution_count": null,
   "metadata": {},
   "outputs": [],
   "source": []
  }
 ],
 "metadata": {
  "kernelspec": {
   "display_name": "sar_ais",
   "language": "python",
   "name": "python3"
  },
  "language_info": {
   "codemirror_mode": {
    "name": "ipython",
    "version": 3
   },
   "file_extension": ".py",
   "mimetype": "text/x-python",
   "name": "python",
   "nbconvert_exporter": "python",
   "pygments_lexer": "ipython3",
   "version": "3.11.11"
  }
 },
 "nbformat": 4,
 "nbformat_minor": 2
}
